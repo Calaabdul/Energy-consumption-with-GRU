{
 "cells": [
  {
   "cell_type": "code",
   "execution_count": 351,
   "id": "ba30502b",
   "metadata": {},
   "outputs": [],
   "source": [
    "import torch\n",
    "import torch.nn as nn\n",
    "import torch.optim as optim\n",
    "from tqdm import tqdm\n",
    "import pandas as pd \n",
    "import numpy as np \n",
    "import matplotlib.pyplot as plt \n",
    "import seaborn as sns\n",
    "from statsmodels.graphics.tsaplots import plot_acf, plot_pacf\n",
    "from sklearn.preprocessing import StandardScaler\n",
    "import optuna\n",
    "from torch.utils.data import DataLoader, TensorDataset \n",
    "import torchmetrics\n",
    "\n",
    "\n",
    "import warnings\n",
    "warnings.filterwarnings(\"ignore\")"
   ]
  },
  {
   "cell_type": "code",
   "execution_count": 352,
   "id": "551d2e0f",
   "metadata": {},
   "outputs": [],
   "source": [
    "DATA_PATH = \"../data/PDB_Load_History.csv\""
   ]
  },
  {
   "cell_type": "code",
   "execution_count": 353,
   "id": "21c3f52a",
   "metadata": {},
   "outputs": [
    {
     "data": {
      "text/html": [
       "<div>\n",
       "<style scoped>\n",
       "    .dataframe tbody tr th:only-of-type {\n",
       "        vertical-align: middle;\n",
       "    }\n",
       "\n",
       "    .dataframe tbody tr th {\n",
       "        vertical-align: top;\n",
       "    }\n",
       "\n",
       "    .dataframe thead th {\n",
       "        text-align: right;\n",
       "    }\n",
       "</style>\n",
       "<table border=\"1\" class=\"dataframe\">\n",
       "  <thead>\n",
       "    <tr style=\"text-align: right;\">\n",
       "      <th></th>\n",
       "      <th>date</th>\n",
       "      <th>year</th>\n",
       "      <th>month</th>\n",
       "      <th>day</th>\n",
       "      <th>weekday</th>\n",
       "      <th>hour</th>\n",
       "      <th>demand</th>\n",
       "      <th>temperature</th>\n",
       "    </tr>\n",
       "  </thead>\n",
       "  <tbody>\n",
       "    <tr>\n",
       "      <th>0</th>\n",
       "      <td>2003-03-01</td>\n",
       "      <td>2003</td>\n",
       "      <td>3</td>\n",
       "      <td>1</td>\n",
       "      <td>7</td>\n",
       "      <td>1</td>\n",
       "      <td>12863.0</td>\n",
       "      <td>29</td>\n",
       "    </tr>\n",
       "    <tr>\n",
       "      <th>1</th>\n",
       "      <td>2003-03-01</td>\n",
       "      <td>2003</td>\n",
       "      <td>3</td>\n",
       "      <td>1</td>\n",
       "      <td>7</td>\n",
       "      <td>2</td>\n",
       "      <td>12389.0</td>\n",
       "      <td>28</td>\n",
       "    </tr>\n",
       "    <tr>\n",
       "      <th>2</th>\n",
       "      <td>2003-03-01</td>\n",
       "      <td>2003</td>\n",
       "      <td>3</td>\n",
       "      <td>1</td>\n",
       "      <td>7</td>\n",
       "      <td>3</td>\n",
       "      <td>12155.0</td>\n",
       "      <td>29</td>\n",
       "    </tr>\n",
       "    <tr>\n",
       "      <th>3</th>\n",
       "      <td>2003-03-01</td>\n",
       "      <td>2003</td>\n",
       "      <td>3</td>\n",
       "      <td>1</td>\n",
       "      <td>7</td>\n",
       "      <td>4</td>\n",
       "      <td>12072.0</td>\n",
       "      <td>27</td>\n",
       "    </tr>\n",
       "    <tr>\n",
       "      <th>4</th>\n",
       "      <td>2003-03-01</td>\n",
       "      <td>2003</td>\n",
       "      <td>3</td>\n",
       "      <td>1</td>\n",
       "      <td>7</td>\n",
       "      <td>5</td>\n",
       "      <td>12160.0</td>\n",
       "      <td>29</td>\n",
       "    </tr>\n",
       "  </tbody>\n",
       "</table>\n",
       "</div>"
      ],
      "text/plain": [
       "        date  year  month  day  weekday  hour   demand  temperature\n",
       "0 2003-03-01  2003      3    1        7     1  12863.0           29\n",
       "1 2003-03-01  2003      3    1        7     2  12389.0           28\n",
       "2 2003-03-01  2003      3    1        7     3  12155.0           29\n",
       "3 2003-03-01  2003      3    1        7     4  12072.0           27\n",
       "4 2003-03-01  2003      3    1        7     5  12160.0           29"
      ]
     },
     "execution_count": 353,
     "metadata": {},
     "output_type": "execute_result"
    }
   ],
   "source": [
    "df =  pd.read_csv(DATA_PATH, parse_dates=['date'])\n",
    "df.head()"
   ]
  },
  {
   "cell_type": "code",
   "execution_count": 354,
   "id": "00cef637",
   "metadata": {},
   "outputs": [
    {
     "name": "stdout",
     "output_type": "stream",
     "text": [
      "<class 'pandas.core.frame.DataFrame'>\n",
      "RangeIndex: 103776 entries, 0 to 103775\n",
      "Data columns (total 8 columns):\n",
      " #   Column       Non-Null Count   Dtype         \n",
      "---  ------       --------------   -----         \n",
      " 0   date         103776 non-null  datetime64[ns]\n",
      " 1   year         103776 non-null  int64         \n",
      " 2   month        103776 non-null  int64         \n",
      " 3   day          103776 non-null  int64         \n",
      " 4   weekday      103776 non-null  int64         \n",
      " 5   hour         103776 non-null  int64         \n",
      " 6   demand       103776 non-null  float64       \n",
      " 7   temperature  103776 non-null  int64         \n",
      "dtypes: datetime64[ns](1), float64(1), int64(6)\n",
      "memory usage: 6.3 MB\n"
     ]
    }
   ],
   "source": [
    "df.info()"
   ]
  },
  {
   "cell_type": "markdown",
   "id": "542a182c",
   "metadata": {},
   "source": [
    "There are neither **Missing values** or **Duplicate data points**"
   ]
  },
  {
   "cell_type": "code",
   "execution_count": 355,
   "id": "abdfd661",
   "metadata": {},
   "outputs": [
    {
     "name": "stdout",
     "output_type": "stream",
     "text": [
      "2003-03-01 00:00:00\n",
      "2014-12-31 00:00:00\n"
     ]
    }
   ],
   "source": [
    "print(df['date'].min())\n",
    "print(df['date'].max())"
   ]
  },
  {
   "cell_type": "markdown",
   "id": "8e287198",
   "metadata": {},
   "source": [
    "Data was collected from 1st of March, 2003 to 31st of December 2014, spanning about 11 years"
   ]
  },
  {
   "cell_type": "markdown",
   "id": "1a8a4ec5",
   "metadata": {},
   "source": [
    "## Check if date frequency is regular"
   ]
  },
  {
   "cell_type": "code",
   "execution_count": 356,
   "id": "296547dc",
   "metadata": {},
   "outputs": [
    {
     "data": {
      "text/plain": [
       "date\n",
       "0 days    99452\n",
       "1 days     4323\n",
       "Name: count, dtype: int64"
      ]
     },
     "execution_count": 356,
     "metadata": {},
     "output_type": "execute_result"
    }
   ],
   "source": [
    "df['date'].diff().value_counts()"
   ]
  },
  {
   "cell_type": "markdown",
   "id": "8aa80dab",
   "metadata": {},
   "source": [
    "Date freq is **not constant** throughout the data"
   ]
  },
  {
   "cell_type": "markdown",
   "id": "53803835",
   "metadata": {},
   "source": [
    "### Resample to every 24 hours to make it even"
   ]
  },
  {
   "cell_type": "code",
   "execution_count": 357,
   "id": "5ee5989e",
   "metadata": {},
   "outputs": [
    {
     "data": {
      "text/html": [
       "<div>\n",
       "<style scoped>\n",
       "    .dataframe tbody tr th:only-of-type {\n",
       "        vertical-align: middle;\n",
       "    }\n",
       "\n",
       "    .dataframe tbody tr th {\n",
       "        vertical-align: top;\n",
       "    }\n",
       "\n",
       "    .dataframe thead th {\n",
       "        text-align: right;\n",
       "    }\n",
       "</style>\n",
       "<table border=\"1\" class=\"dataframe\">\n",
       "  <thead>\n",
       "    <tr style=\"text-align: right;\">\n",
       "      <th></th>\n",
       "      <th>date</th>\n",
       "      <th>year</th>\n",
       "      <th>month</th>\n",
       "      <th>day</th>\n",
       "      <th>weekday</th>\n",
       "      <th>hour</th>\n",
       "      <th>demand</th>\n",
       "      <th>temperature</th>\n",
       "    </tr>\n",
       "  </thead>\n",
       "  <tbody>\n",
       "    <tr>\n",
       "      <th>0</th>\n",
       "      <td>2003-03-01</td>\n",
       "      <td>2003.0</td>\n",
       "      <td>3.0</td>\n",
       "      <td>1.0</td>\n",
       "      <td>7.0</td>\n",
       "      <td>12.5</td>\n",
       "      <td>14216.875</td>\n",
       "      <td>32.083333</td>\n",
       "    </tr>\n",
       "    <tr>\n",
       "      <th>1</th>\n",
       "      <td>2003-03-02</td>\n",
       "      <td>2003.0</td>\n",
       "      <td>3.0</td>\n",
       "      <td>2.0</td>\n",
       "      <td>1.0</td>\n",
       "      <td>12.5</td>\n",
       "      <td>13851.625</td>\n",
       "      <td>34.458333</td>\n",
       "    </tr>\n",
       "    <tr>\n",
       "      <th>2</th>\n",
       "      <td>2003-03-03</td>\n",
       "      <td>2003.0</td>\n",
       "      <td>3.0</td>\n",
       "      <td>3.0</td>\n",
       "      <td>2.0</td>\n",
       "      <td>12.5</td>\n",
       "      <td>16348.875</td>\n",
       "      <td>14.958333</td>\n",
       "    </tr>\n",
       "    <tr>\n",
       "      <th>3</th>\n",
       "      <td>2003-03-04</td>\n",
       "      <td>2003.0</td>\n",
       "      <td>3.0</td>\n",
       "      <td>4.0</td>\n",
       "      <td>3.0</td>\n",
       "      <td>12.5</td>\n",
       "      <td>16575.500</td>\n",
       "      <td>18.791667</td>\n",
       "    </tr>\n",
       "    <tr>\n",
       "      <th>4</th>\n",
       "      <td>2003-03-05</td>\n",
       "      <td>2003.0</td>\n",
       "      <td>3.0</td>\n",
       "      <td>5.0</td>\n",
       "      <td>4.0</td>\n",
       "      <td>12.5</td>\n",
       "      <td>15391.875</td>\n",
       "      <td>36.458333</td>\n",
       "    </tr>\n",
       "  </tbody>\n",
       "</table>\n",
       "</div>"
      ],
      "text/plain": [
       "        date    year  month  day  weekday  hour     demand  temperature\n",
       "0 2003-03-01  2003.0    3.0  1.0      7.0  12.5  14216.875    32.083333\n",
       "1 2003-03-02  2003.0    3.0  2.0      1.0  12.5  13851.625    34.458333\n",
       "2 2003-03-03  2003.0    3.0  3.0      2.0  12.5  16348.875    14.958333\n",
       "3 2003-03-04  2003.0    3.0  4.0      3.0  12.5  16575.500    18.791667\n",
       "4 2003-03-05  2003.0    3.0  5.0      4.0  12.5  15391.875    36.458333"
      ]
     },
     "execution_count": 357,
     "metadata": {},
     "output_type": "execute_result"
    }
   ],
   "source": [
    "df = df.resample('d', on = 'date').mean().reset_index()\n",
    "df.head()\n"
   ]
  },
  {
   "cell_type": "markdown",
   "id": "dbe5d1f5",
   "metadata": {},
   "source": [
    "## Visualize"
   ]
  },
  {
   "cell_type": "code",
   "execution_count": 358,
   "id": "82afa7fb",
   "metadata": {},
   "outputs": [
    {
     "data": {
      "text/html": [
       "<div>\n",
       "<style scoped>\n",
       "    .dataframe tbody tr th:only-of-type {\n",
       "        vertical-align: middle;\n",
       "    }\n",
       "\n",
       "    .dataframe tbody tr th {\n",
       "        vertical-align: top;\n",
       "    }\n",
       "\n",
       "    .dataframe thead th {\n",
       "        text-align: right;\n",
       "    }\n",
       "</style>\n",
       "<table border=\"1\" class=\"dataframe\">\n",
       "  <thead>\n",
       "    <tr style=\"text-align: right;\">\n",
       "      <th></th>\n",
       "      <th>count</th>\n",
       "      <th>mean</th>\n",
       "      <th>std</th>\n",
       "      <th>min</th>\n",
       "      <th>25%</th>\n",
       "      <th>50%</th>\n",
       "      <th>75%</th>\n",
       "      <th>max</th>\n",
       "    </tr>\n",
       "  </thead>\n",
       "  <tbody>\n",
       "    <tr>\n",
       "      <th>demand</th>\n",
       "      <td>4324.0</td>\n",
       "      <td>14674.947493</td>\n",
       "      <td>1746.835984</td>\n",
       "      <td>10265.541667</td>\n",
       "      <td>13482.760417</td>\n",
       "      <td>14402.770833</td>\n",
       "      <td>15626.552083</td>\n",
       "      <td>22866.208333</td>\n",
       "    </tr>\n",
       "  </tbody>\n",
       "</table>\n",
       "</div>"
      ],
      "text/plain": [
       "         count          mean          std           min           25%  \\\n",
       "demand  4324.0  14674.947493  1746.835984  10265.541667  13482.760417   \n",
       "\n",
       "                 50%           75%           max  \n",
       "demand  14402.770833  15626.552083  22866.208333  "
      ]
     },
     "execution_count": 358,
     "metadata": {},
     "output_type": "execute_result"
    }
   ],
   "source": [
    "df[['demand']].describe().T"
   ]
  },
  {
   "cell_type": "code",
   "execution_count": 359,
   "id": "41691cde",
   "metadata": {},
   "outputs": [
    {
     "data": {
      "image/png": "[encoded data removed]",
      "text/plain": [
       "<Figure size 800x500 with 2 Axes>"
      ]
     },
     "metadata": {},
     "output_type": "display_data"
    }
   ],
   "source": [
    "fig, ax = plt.subplots(1, 2, figsize = (8, 5))\n",
    "sns.histplot(data = df, x = 'demand', kde = True, ax = ax[0])\n",
    "sns.boxplot(data = df, x = 'demand', ax = ax[1]);"
   ]
  },
  {
   "cell_type": "code",
   "execution_count": 360,
   "id": "86a5a911",
   "metadata": {},
   "outputs": [
    {
     "data": {
      "image/png": "[encoded data removed]",
      "text/plain": [
       "<Figure size 640x480 with 1 Axes>"
      ]
     },
     "metadata": {},
     "output_type": "display_data"
    }
   ],
   "source": [
    "sns.lineplot(data = df, x = 'date', y = 'demand');"
   ]
  },
  {
   "cell_type": "markdown",
   "id": "10091bb4",
   "metadata": {},
   "source": [
    "## Split into Train and Test set"
   ]
  },
  {
   "cell_type": "code",
   "execution_count": 361,
   "id": "c21f46b5",
   "metadata": {},
   "outputs": [],
   "source": [
    "split_idx = int(len(df) * 0.8)\n",
    "train_data = df[: split_idx]\n",
    "test_data = df[split_idx: ]"
   ]
  },
  {
   "cell_type": "code",
   "execution_count": 362,
   "id": "b2d94558",
   "metadata": {},
   "outputs": [
    {
     "data": {
      "text/plain": [
       "((3459, 8), (865, 8))"
      ]
     },
     "execution_count": 362,
     "metadata": {},
     "output_type": "execute_result"
    }
   ],
   "source": [
    "train_data.shape, test_data.shape"
   ]
  },
  {
   "cell_type": "markdown",
   "id": "3c6aa957",
   "metadata": {},
   "source": [
    "## Chehcking Sequence Length for Model"
   ]
  },
  {
   "cell_type": "code",
   "execution_count": 363,
   "id": "c1917dc5",
   "metadata": {},
   "outputs": [
    {
     "data": {
      "image/png": "[encoded data removed]",
      "text/plain": [
       "<Figure size 800x600 with 2 Axes>"
      ]
     },
     "metadata": {},
     "output_type": "display_data"
    }
   ],
   "source": [
    "fig, ax = plt.subplots(2, 1, figsize = (8, 6))\n",
    "plot_acf(train_data['demand'], ax = ax[0])\n",
    "plot_pacf(train_data['demand'], ax = ax[1]);"
   ]
  },
  {
   "cell_type": "markdown",
   "id": "cfcc87f0",
   "metadata": {},
   "source": [
    "## Prepare Data for Model"
   ]
  },
  {
   "cell_type": "code",
   "execution_count": 364,
   "id": "a21be869",
   "metadata": {},
   "outputs": [],
   "source": [
    "# 1. drop target\n",
    "train_data = train_data.drop(columns = ['date'], axis = 1)\n",
    "test_data = test_data.drop(columns = ['date'], axis = 1)"
   ]
  },
  {
   "cell_type": "code",
   "execution_count": 365,
   "id": "07bccbfc",
   "metadata": {},
   "outputs": [
    {
     "data": {
      "text/html": [
       "<div>\n",
       "<style scoped>\n",
       "    .dataframe tbody tr th:only-of-type {\n",
       "        vertical-align: middle;\n",
       "    }\n",
       "\n",
       "    .dataframe tbody tr th {\n",
       "        vertical-align: top;\n",
       "    }\n",
       "\n",
       "    .dataframe thead th {\n",
       "        text-align: right;\n",
       "    }\n",
       "</style>\n",
       "<table border=\"1\" class=\"dataframe\">\n",
       "  <thead>\n",
       "    <tr style=\"text-align: right;\">\n",
       "      <th></th>\n",
       "      <th>year</th>\n",
       "      <th>month</th>\n",
       "      <th>day</th>\n",
       "      <th>weekday</th>\n",
       "      <th>hour</th>\n",
       "      <th>demand</th>\n",
       "      <th>temperature</th>\n",
       "    </tr>\n",
       "  </thead>\n",
       "  <tbody>\n",
       "    <tr>\n",
       "      <th>0</th>\n",
       "      <td>2003.0</td>\n",
       "      <td>3.0</td>\n",
       "      <td>1.0</td>\n",
       "      <td>7.0</td>\n",
       "      <td>12.5</td>\n",
       "      <td>14216.875</td>\n",
       "      <td>32.083333</td>\n",
       "    </tr>\n",
       "    <tr>\n",
       "      <th>1</th>\n",
       "      <td>2003.0</td>\n",
       "      <td>3.0</td>\n",
       "      <td>2.0</td>\n",
       "      <td>1.0</td>\n",
       "      <td>12.5</td>\n",
       "      <td>13851.625</td>\n",
       "      <td>34.458333</td>\n",
       "    </tr>\n",
       "    <tr>\n",
       "      <th>2</th>\n",
       "      <td>2003.0</td>\n",
       "      <td>3.0</td>\n",
       "      <td>3.0</td>\n",
       "      <td>2.0</td>\n",
       "      <td>12.5</td>\n",
       "      <td>16348.875</td>\n",
       "      <td>14.958333</td>\n",
       "    </tr>\n",
       "    <tr>\n",
       "      <th>3</th>\n",
       "      <td>2003.0</td>\n",
       "      <td>3.0</td>\n",
       "      <td>4.0</td>\n",
       "      <td>3.0</td>\n",
       "      <td>12.5</td>\n",
       "      <td>16575.500</td>\n",
       "      <td>18.791667</td>\n",
       "    </tr>\n",
       "    <tr>\n",
       "      <th>4</th>\n",
       "      <td>2003.0</td>\n",
       "      <td>3.0</td>\n",
       "      <td>5.0</td>\n",
       "      <td>4.0</td>\n",
       "      <td>12.5</td>\n",
       "      <td>15391.875</td>\n",
       "      <td>36.458333</td>\n",
       "    </tr>\n",
       "  </tbody>\n",
       "</table>\n",
       "</div>"
      ],
      "text/plain": [
       "     year  month  day  weekday  hour     demand  temperature\n",
       "0  2003.0    3.0  1.0      7.0  12.5  14216.875    32.083333\n",
       "1  2003.0    3.0  2.0      1.0  12.5  13851.625    34.458333\n",
       "2  2003.0    3.0  3.0      2.0  12.5  16348.875    14.958333\n",
       "3  2003.0    3.0  4.0      3.0  12.5  16575.500    18.791667\n",
       "4  2003.0    3.0  5.0      4.0  12.5  15391.875    36.458333"
      ]
     },
     "execution_count": 365,
     "metadata": {},
     "output_type": "execute_result"
    }
   ],
   "source": [
    "train_data.head()"
   ]
  },
  {
   "cell_type": "code",
   "execution_count": 366,
   "id": "9115cf79",
   "metadata": {},
   "outputs": [],
   "source": [
    "# 2. scale features\n",
    "def preprocess(train: pd.DataFrame, test: pd.DataFrame):\n",
    "    scaler  = StandardScaler()\n",
    "    train = scaler.fit_transform(train)\n",
    "    test = scaler.transform(test)\n",
    "\n",
    "    return (train, test)"
   ]
  },
  {
   "cell_type": "code",
   "execution_count": 367,
   "id": "35c27769",
   "metadata": {},
   "outputs": [],
   "source": [
    "train_data, test_data = preprocess(train_data, test_data)"
   ]
  },
  {
   "cell_type": "code",
   "execution_count": 368,
   "id": "c4efb45f",
   "metadata": {},
   "outputs": [],
   "source": [
    "#  3. Create Sequence/Window size\n",
    "def create_sequence(data, seq_length):\n",
    "    xs, ys = [], []\n",
    "    for i in range(len(data) - seq_length):\n",
    "        x = data[i: i + seq_length]\n",
    "        y = data[i + seq_length, 5] #target is on index 5\n",
    "        xs.append(x)\n",
    "        ys.append(y)\n",
    "    return np.array(xs), np.array(ys)"
   ]
  },
  {
   "cell_type": "code",
   "execution_count": 369,
   "id": "cacbd474",
   "metadata": {},
   "outputs": [],
   "source": [
    "SEQ_LENGTH = 8\n",
    "X_train, y_train = create_sequence(train_data, SEQ_LENGTH)\n",
    "X_test, y_test = create_sequence(test_data, SEQ_LENGTH)"
   ]
  },
  {
   "cell_type": "code",
   "execution_count": 370,
   "id": "d4e9a771",
   "metadata": {},
   "outputs": [],
   "source": [
    "dataset_train = TensorDataset(torch.tensor(X_train).float(), torch.tensor(y_train).float())\n",
    "dataset_test = TensorDataset(torch.tensor(X_train).float(), torch.tensor(y_train).float())"
   ]
  },
  {
   "cell_type": "code",
   "execution_count": 371,
   "id": "22070c55",
   "metadata": {},
   "outputs": [],
   "source": [
    "dataloader_train = DataLoader(dataset_train, shuffle= False, batch_size = 32)\n",
    "dataloader_test = DataLoader(dataset_test, shuffle= False, batch_size = 32)"
   ]
  },
  {
   "cell_type": "markdown",
   "id": "ea1c9c24",
   "metadata": {},
   "source": [
    "## Build GRU Architecture"
   ]
  },
  {
   "cell_type": "code",
   "execution_count": 372,
   "id": "7c795ff8",
   "metadata": {},
   "outputs": [
    {
     "name": "stdout",
     "output_type": "stream",
     "text": [
      "True\n"
     ]
    }
   ],
   "source": [
    "print(torch.backends.mps.is_available())"
   ]
  },
  {
   "cell_type": "code",
   "execution_count": 373,
   "id": "009f6aca",
   "metadata": {},
   "outputs": [
    {
     "name": "stdout",
     "output_type": "stream",
     "text": [
      "True\n"
     ]
    }
   ],
   "source": [
    "print(torch.backends.mps.is_built())"
   ]
  },
  {
   "cell_type": "code",
   "execution_count": 374,
   "id": "b99ad54b",
   "metadata": {},
   "outputs": [
    {
     "name": "stdout",
     "output_type": "stream",
     "text": [
      "Using device: mps\n"
     ]
    }
   ],
   "source": [
    "device = torch.device(\"mps\" if torch.backends.mps.is_available() else \"cpu\")\n",
    "print(\"Using device:\", device)"
   ]
  },
  {
   "cell_type": "code",
   "execution_count": 375,
   "id": "7399b40b",
   "metadata": {},
   "outputs": [],
   "source": [
    "class Net(nn.Module):\n",
    "    def __init__(self):\n",
    "        super().__init__()\n",
    "        self.gru = nn.GRU(\n",
    "            input_size= 7, hidden_size= 64, num_layers=2, batch_first= True\n",
    "        )\n",
    "        self.fc = nn.Linear(64, 1)\n",
    "    def forward(self, x):\n",
    "        h0 = torch.zeros(2, x.size(0), 64).to(device)\n",
    "        out, _ = self.gru(x, h0)\n",
    "        out = self.fc(out[:, -1, :])\n",
    "\n",
    "        return out"
   ]
  },
  {
   "cell_type": "code",
   "execution_count": 376,
   "id": "d3b4ccc2",
   "metadata": {},
   "outputs": [],
   "source": [
    "net = Net()\n",
    "net = net.to(device)"
   ]
  },
  {
   "cell_type": "code",
   "execution_count": 377,
   "id": "9e241c81",
   "metadata": {},
   "outputs": [],
   "source": [
    "criterion = nn.MSELoss()\n",
    "optimizer = optim.Adam(net.parameters(), lr = 0.001)"
   ]
  },
  {
   "cell_type": "code",
   "execution_count": 378,
   "id": "bd73ee8b",
   "metadata": {},
   "outputs": [
    {
     "name": "stdout",
     "output_type": "stream",
     "text": [
      "torch.Size([32, 8, 7])\n",
      "torch.Size([32, 8, 7])\n",
      "torch.Size([32, 8, 7])\n",
      "torch.Size([32, 8, 7])\n",
      "torch.Size([32, 8, 7])\n",
      "torch.Size([32, 8, 7])\n",
      "torch.Size([32, 8, 7])\n",
      "torch.Size([32, 8, 7])\n",
      "torch.Size([32, 8, 7])\n",
      "torch.Size([32, 8, 7])\n",
      "torch.Size([32, 8, 7])\n",
      "torch.Size([32, 8, 7])\n",
      "torch.Size([32, 8, 7])\n",
      "torch.Size([32, 8, 7])\n",
      "torch.Size([32, 8, 7])\n",
      "torch.Size([32, 8, 7])\n",
      "torch.Size([32, 8, 7])\n",
      "torch.Size([32, 8, 7])\n",
      "torch.Size([32, 8, 7])\n",
      "torch.Size([32, 8, 7])\n",
      "torch.Size([32, 8, 7])\n",
      "torch.Size([32, 8, 7])\n",
      "torch.Size([32, 8, 7])\n",
      "torch.Size([32, 8, 7])\n",
      "torch.Size([32, 8, 7])\n",
      "torch.Size([32, 8, 7])\n",
      "torch.Size([32, 8, 7])\n",
      "torch.Size([32, 8, 7])\n",
      "torch.Size([32, 8, 7])\n",
      "torch.Size([32, 8, 7])\n",
      "torch.Size([32, 8, 7])\n",
      "torch.Size([32, 8, 7])\n",
      "torch.Size([32, 8, 7])\n",
      "torch.Size([32, 8, 7])\n",
      "torch.Size([32, 8, 7])\n",
      "torch.Size([32, 8, 7])\n",
      "torch.Size([32, 8, 7])\n",
      "torch.Size([32, 8, 7])\n",
      "torch.Size([32, 8, 7])\n",
      "torch.Size([32, 8, 7])\n",
      "torch.Size([32, 8, 7])\n",
      "torch.Size([32, 8, 7])\n",
      "torch.Size([32, 8, 7])\n",
      "torch.Size([32, 8, 7])\n",
      "torch.Size([32, 8, 7])\n",
      "torch.Size([32, 8, 7])\n",
      "torch.Size([32, 8, 7])\n",
      "torch.Size([32, 8, 7])\n",
      "torch.Size([32, 8, 7])\n",
      "torch.Size([32, 8, 7])\n",
      "torch.Size([32, 8, 7])\n",
      "torch.Size([32, 8, 7])\n",
      "torch.Size([32, 8, 7])\n",
      "torch.Size([32, 8, 7])\n",
      "torch.Size([32, 8, 7])\n",
      "torch.Size([32, 8, 7])\n",
      "torch.Size([32, 8, 7])\n",
      "torch.Size([32, 8, 7])\n",
      "torch.Size([32, 8, 7])\n",
      "torch.Size([32, 8, 7])\n",
      "torch.Size([32, 8, 7])\n",
      "torch.Size([32, 8, 7])\n",
      "torch.Size([32, 8, 7])\n",
      "torch.Size([32, 8, 7])\n",
      "torch.Size([32, 8, 7])\n",
      "torch.Size([32, 8, 7])\n",
      "torch.Size([32, 8, 7])\n",
      "torch.Size([32, 8, 7])\n",
      "torch.Size([32, 8, 7])\n",
      "torch.Size([32, 8, 7])\n",
      "torch.Size([32, 8, 7])\n",
      "torch.Size([32, 8, 7])\n",
      "torch.Size([32, 8, 7])\n",
      "torch.Size([32, 8, 7])\n",
      "torch.Size([32, 8, 7])\n",
      "torch.Size([32, 8, 7])\n",
      "torch.Size([32, 8, 7])\n",
      "torch.Size([32, 8, 7])\n",
      "torch.Size([32, 8, 7])\n",
      "torch.Size([32, 8, 7])\n",
      "torch.Size([32, 8, 7])\n",
      "torch.Size([32, 8, 7])\n",
      "torch.Size([32, 8, 7])\n",
      "torch.Size([32, 8, 7])\n",
      "torch.Size([32, 8, 7])\n",
      "torch.Size([32, 8, 7])\n",
      "torch.Size([32, 8, 7])\n",
      "torch.Size([32, 8, 7])\n",
      "torch.Size([32, 8, 7])\n",
      "torch.Size([32, 8, 7])\n",
      "torch.Size([32, 8, 7])\n",
      "torch.Size([32, 8, 7])\n",
      "torch.Size([32, 8, 7])\n",
      "torch.Size([32, 8, 7])\n",
      "torch.Size([32, 8, 7])\n",
      "torch.Size([32, 8, 7])\n",
      "torch.Size([32, 8, 7])\n",
      "torch.Size([32, 8, 7])\n",
      "torch.Size([32, 8, 7])\n",
      "torch.Size([32, 8, 7])\n",
      "torch.Size([32, 8, 7])\n",
      "torch.Size([32, 8, 7])\n",
      "torch.Size([32, 8, 7])\n",
      "torch.Size([32, 8, 7])\n",
      "torch.Size([32, 8, 7])\n",
      "torch.Size([32, 8, 7])\n",
      "torch.Size([32, 8, 7])\n",
      "torch.Size([27, 8, 7])\n"
     ]
    }
   ],
   "source": [
    "for seq, label in dataloader_train:\n",
    "    print(seq.shape)\n",
    "   "
   ]
  },
  {
   "cell_type": "code",
   "execution_count": 379,
   "id": "42e02c2b",
   "metadata": {},
   "outputs": [
    {
     "name": "stderr",
     "output_type": "stream",
     "text": [
      "Epoch [1/30]: 100%|██████████| 108/108 [00:01<00:00, 69.66it/s, train_loss=0.804]\n",
      "Epoch [2/30]: 100%|██████████| 108/108 [00:01<00:00, 68.89it/s, train_loss=0.793]\n",
      "Epoch [3/30]: 100%|██████████| 108/108 [00:01<00:00, 74.32it/s, train_loss=0.787]\n",
      "Epoch [4/30]: 100%|██████████| 108/108 [00:01<00:00, 74.35it/s, train_loss=0.779]\n",
      "Epoch [5/30]: 100%|██████████| 108/108 [00:01<00:00, 71.42it/s, train_loss=0.77] \n",
      "Epoch [6/30]: 100%|██████████| 108/108 [00:01<00:00, 71.03it/s, train_loss=0.762]\n",
      "Epoch [7/30]: 100%|██████████| 108/108 [00:01<00:00, 73.74it/s, train_loss=0.753]\n",
      "Epoch [8/30]: 100%|██████████| 108/108 [00:01<00:00, 72.49it/s, train_loss=0.745]\n",
      "Epoch [9/30]: 100%|██████████| 108/108 [00:01<00:00, 73.34it/s, train_loss=0.738]\n",
      "Epoch [10/30]: 100%|██████████| 108/108 [00:01<00:00, 72.24it/s, train_loss=0.731]\n",
      "Epoch [11/30]: 100%|██████████| 108/108 [00:01<00:00, 74.18it/s, train_loss=0.726]\n",
      "Epoch [12/30]: 100%|██████████| 108/108 [00:01<00:00, 71.72it/s, train_loss=0.72] \n",
      "Epoch [13/30]: 100%|██████████| 108/108 [00:01<00:00, 73.74it/s, train_loss=0.715]\n",
      "Epoch [14/30]: 100%|██████████| 108/108 [00:01<00:00, 71.00it/s, train_loss=0.71] \n",
      "Epoch [15/30]: 100%|██████████| 108/108 [00:01<00:00, 69.69it/s, train_loss=0.706]\n",
      "Epoch [16/30]: 100%|██████████| 108/108 [00:01<00:00, 71.01it/s, train_loss=0.702]\n",
      "Epoch [17/30]: 100%|██████████| 108/108 [00:01<00:00, 72.94it/s, train_loss=0.697]\n",
      "Epoch [18/30]: 100%|██████████| 108/108 [00:01<00:00, 71.22it/s, train_loss=0.693]\n",
      "Epoch [19/30]: 100%|██████████| 108/108 [00:01<00:00, 74.24it/s, train_loss=0.689]\n",
      "Epoch [20/30]: 100%|██████████| 108/108 [00:01<00:00, 71.70it/s, train_loss=0.685]\n",
      "Epoch [21/30]: 100%|██████████| 108/108 [00:01<00:00, 64.82it/s, train_loss=0.68] \n",
      "Epoch [22/30]: 100%|██████████| 108/108 [00:01<00:00, 72.67it/s, train_loss=0.675]\n",
      "Epoch [23/30]: 100%|██████████| 108/108 [00:01<00:00, 71.27it/s, train_loss=0.669]\n",
      "Epoch [24/30]: 100%|██████████| 108/108 [00:01<00:00, 73.57it/s, train_loss=0.663]\n",
      "Epoch [25/30]: 100%|██████████| 108/108 [00:01<00:00, 70.69it/s, train_loss=0.657]\n",
      "Epoch [26/30]: 100%|██████████| 108/108 [00:01<00:00, 74.05it/s, train_loss=0.651]\n",
      "Epoch [27/30]: 100%|██████████| 108/108 [00:01<00:00, 71.07it/s, train_loss=0.645]\n",
      "Epoch [28/30]: 100%|██████████| 108/108 [00:01<00:00, 73.03it/s, train_loss=0.639]\n",
      "Epoch [29/30]: 100%|██████████| 108/108 [00:01<00:00, 71.90it/s, train_loss=0.634]\n",
      "Epoch [30/30]: 100%|██████████| 108/108 [00:01<00:00, 71.88it/s, train_loss=0.63] \n"
     ]
    }
   ],
   "source": [
    "for epoch in range(30):\n",
    "    loop = tqdm(dataloader_train, leave = True)\n",
    "\n",
    "    train_loss = 0.0\n",
    "    for seq, label in loop:\n",
    "        optimizer.zero_grad()\n",
    "        seq = seq.to(device)\n",
    "        label = label.to(device)\n",
    "        output = net(seq)\n",
    "        loss = criterion(output, label)\n",
    "        loss.backward()\n",
    "        train_loss += loss.item()\n",
    "        optimizer.step()\n",
    "\n",
    "        loop.set_description(f\"Epoch [{epoch+1}/{30}]\")\n",
    "        loop.set_postfix(train_loss = loss.item())\n",
    "\n",
    "    eval_loss = 0.0\n",
    "    net.eval()\n",
    "    with torch.no_grad():\n",
    "        for seq, label in dataloader_test:\n",
    "            seq = seq.to(device)\n",
    "            label = label.to(device)\n",
    "            output = net(seq)\n",
    "            loss = criterion(output, label)\n",
    "            eval_loss += loss.item()\n",
    "\n",
    "            loop.set_description(f\"Epoch [{epoch+1}/{30}]\")\n",
    "            loop.set_postfix(train_loss = loss/len(dataloader_train),\n",
    "                             eval_loss = eval_loss/len(dataloader_test))\n",
    "\n",
    "    net.train()\n",
    "\n"
   ]
  },
  {
   "cell_type": "code",
   "execution_count": 380,
   "id": "8bcca454",
   "metadata": {},
   "outputs": [
    {
     "name": "stdout",
     "output_type": "stream",
     "text": [
      "Test MSE: 0.4813128411769867\n"
     ]
    }
   ],
   "source": [
    "mse = torchmetrics.MeanSquaredError().to(device)\n",
    "net.eval()\n",
    "with torch.no_grad():\n",
    "    for seq, label in dataloader_test:\n",
    "        seq = seq.to(device)\n",
    "        label = label.to(device)\n",
    "        output = net(seq).squeeze()\n",
    "        output = output.to(device)\n",
    "        mse.update(output, label)\n",
    "    print(\"Test MSE:\", mse.compute().item())"
   ]
  },
  {
   "cell_type": "code",
   "execution_count": null,
   "id": "beaf9655",
   "metadata": {},
   "outputs": [],
   "source": []
  }
 ],
 "metadata": {
  "kernelspec": {
   "display_name": "dl_project",
   "language": "python",
   "name": "python3"
  },
  "language_info": {
   "codemirror_mode": {
    "name": "ipython",
    "version": 3
   },
   "file_extension": ".py",
   "mimetype": "text/x-python",
   "name": "python",
   "nbconvert_exporter": "python",
   "pygments_lexer": "ipython3",
   "version": "3.10.18"
  }
 },
 "nbformat": 4,
 "nbformat_minor": 5
}
